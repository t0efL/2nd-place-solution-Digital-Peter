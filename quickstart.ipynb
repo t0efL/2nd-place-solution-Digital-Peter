{
  "nbformat": 4,
  "nbformat_minor": 0,
  "metadata": {
    "colab": {
      "name": "quickstart.ipynb",
      "provenance": [],
      "collapsed_sections": [],
      "machine_shape": "hm"
    },
    "kernelspec": {
      "name": "python3",
      "display_name": "Python 3"
    },
    "accelerator": "GPU"
  },
  "cells": [
    {
      "cell_type": "markdown",
      "metadata": {
        "id": "Boac0VLKxAm4"
      },
      "source": [
        "### Getting the code and data"
      ]
    },
    {
      "cell_type": "code",
      "metadata": {
        "id": "S3KlbhInvxcO"
      },
      "source": [
        "!git clone https://github.com/t0efL/Digital-Peter.git"
      ],
      "execution_count": null,
      "outputs": []
    },
    {
      "cell_type": "code",
      "metadata": {
        "id": "2ESjBA5JtKEU"
      },
      "source": [
        "cd Digital-Peter/"
      ],
      "execution_count": null,
      "outputs": []
    },
    {
      "cell_type": "code",
      "metadata": {
        "id": "mUryj9ZPObZx"
      },
      "source": [
        "!gdown https://drive.google.com/uc?id=1XkWYqGXIQGldsGh0a3KY8XYtfFSxGhxm\n",
        "!unzip datasets.zip"
      ],
      "execution_count": null,
      "outputs": []
    },
    {
      "cell_type": "code",
      "metadata": {
        "id": "EtIqouA2TH5L"
      },
      "source": [
        "# Getting the data for test inference\n",
        "!gdown https://drive.google.com/uc?id=1NeiUElKph2iDHUhGzywQ8CkQzBoYZjsT\n",
        "!unzip data.zip"
      ],
      "execution_count": null,
      "outputs": []
    },
    {
      "cell_type": "markdown",
      "metadata": {
        "id": "PyDf6d23HouD"
      },
      "source": [
        "### Training\n",
        "\n",
        "Approximate time for each training session - 10 hours (Google Colab Pro).\n",
        "\n",
        "By default, all the logs and weights will be saved in the \"log/\" folder. If you want to change this working directory, you can do it in hparams.py. We recommend you to train each model appoximatly 100 epochs; our training loop contains early stopping, so if the loss stops decreasing, the training will stop. Besides, by default the logs from each training are saved in the same folder, so we recommend you to clean log folder after each training or change working directory in hparams.py. Finally, we recommend you to take the weights from each training according the CER (this will be indicated in the name of the weights), not number of epochs."
      ]
    },
    {
      "cell_type": "markdown",
      "metadata": {
        "id": "VW_345tzxHPa"
      },
      "source": [
        "The first model training (DenseNet161 with Smart Resize)."
      ]
    },
    {
      "cell_type": "code",
      "metadata": {
        "id": "q-T_5bU7wFKc"
      },
      "source": [
        "!python model1train.py"
      ],
      "execution_count": null,
      "outputs": []
    },
    {
      "cell_type": "markdown",
      "metadata": {
        "id": "qWjNVc8XxOcZ"
      },
      "source": [
        "The second model training (ResNext101 with Smart Resize)."
      ]
    },
    {
      "cell_type": "code",
      "metadata": {
        "id": "MXn0Nom_wUOT"
      },
      "source": [
        "!python model2train.py"
      ],
      "execution_count": null,
      "outputs": []
    },
    {
      "cell_type": "markdown",
      "metadata": {
        "id": "UiJ9ajn0xRUo"
      },
      "source": [
        "The third model training (ResNext101 with Default Resize)."
      ]
    },
    {
      "cell_type": "code",
      "metadata": {
        "id": "TIPFlB0zwUkZ"
      },
      "source": [
        "!python model3train.py"
      ],
      "execution_count": null,
      "outputs": []
    },
    {
      "cell_type": "markdown",
      "metadata": {
        "id": "sZ6QQEOpxXQ3"
      },
      "source": [
        "### Inference\n",
        "\n",
        "Put your weights in the working directory as \"weights1.pt\", \"weights2.pt\" and \"weights3.pt\" or just download [ours](https://drive.google.com/drive/folders/1UYH9q7BvZnBEUL8VxbjpOr-5uZGljFCj).\n",
        "\n",
        "You'll find predictions in stdout and \"/output\" folder as well."
      ]
    },
    {
      "cell_type": "code",
      "metadata": {
        "id": "MtbQ2YLFw4ro"
      },
      "source": [
        "!python ocr.py"
      ],
      "execution_count": null,
      "outputs": []
    }
  ]
}